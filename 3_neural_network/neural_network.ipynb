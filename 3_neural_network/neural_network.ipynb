{
 "cells": [
  {
   "cell_type": "markdown",
   "metadata": {},
   "source": [
    "### ニューラルネットワーク Neural Network\n",
    "\n",
    "#### 活性化関数\n",
    "* 入力信号の総和を出力信号(0 or 1?)に変換する関数．活性化関数は入力信号の総和がどのように活性化するか(どのように発火するか)ということを決定する役割がある．\n",
    "* パーセプトロンでは活性化関数にステップ関数(閾値を境にして出力が切り替わる関数)を利用している．\n",
    "\n",
    "#### シグモイド関数\n",
    "$$\n",
    "h(x) = \\frac{1}{1 + \\exp(-x)}\n",
    "$$\n",
    "ニューラルネットワークでは活性化関数に支部も緯度関数を用いて信号の変換を行い，その変換された信号が次のニューロンに伝えられる．"
   ]
  },
  {
   "cell_type": "code",
   "execution_count": 1,
   "metadata": {},
   "outputs": [
    {
     "data": {
      "text/plain": [
       "1"
      ]
     },
     "execution_count": 1,
     "metadata": {},
     "output_type": "execute_result"
    }
   ],
   "source": [
    "# ステップ関数の実装\n",
    "def step_function(x):\n",
    "    if x > 0:\n",
    "        return 1\n",
    "    else:\n",
    "        return 0\n",
    "# 単純に実装するとこのようになるが，引数のxは実数(浮動小数点数)しか入力できないという問題あり\n",
    "# つまり，Numpyの配列を引数に取るような使い方ができない\n",
    "step_function(3.0)"
   ]
  },
  {
   "cell_type": "code",
   "execution_count": null,
   "metadata": {},
   "outputs": [],
   "source": [
    "# ステップ関数の実装 (Numpy配列に対応)\n",
    "def step_function(x):\n",
    "    y = x > 0\n",
    "    return y.astype(np.int)"
   ]
  },
  {
   "cell_type": "markdown",
   "metadata": {},
   "source": [
    "上の関数はたったの2行だがNumpyの便利なトリックを使っているため，すこしわかりづらい\n",
    "\n",
    "Numpy配列に対して不等号の演算を行うと，配列の各要素に対して不等号の演算が行われ，**ブーリアンの配列** が生成される．\n",
    "\n",
    "今回の関数では$x$という配列の各要素に対して，0より大きい要素はTrueに，0以下の要素はFalseに変換され，新しい配列$y$が生成される．\n",
    "\n",
    "ここで，$y$はブーリアン型の配列であるので，これを0か1の**int型**を出力する関数にしたい．\n",
    "\n",
    "$\\rightarrow$`astype()`メソッドを使う．このメソッドでは引数に，希望する型(今回は`np.int`型)を指定．\n",
    "\n",
    "以下のコードで挙動を確認"
   ]
  },
  {
   "cell_type": "code",
   "execution_count": 2,
   "metadata": {},
   "outputs": [
    {
     "data": {
      "text/plain": [
       "array([-1.,  1.,  2.])"
      ]
     },
     "execution_count": 2,
     "metadata": {},
     "output_type": "execute_result"
    }
   ],
   "source": [
    "import numpy as np\n",
    "x = np.array([-1.0, 1.0, 2.0])\n",
    "x"
   ]
  },
  {
   "cell_type": "code",
   "execution_count": 3,
   "metadata": {},
   "outputs": [
    {
     "data": {
      "text/plain": [
       "array([False,  True,  True])"
      ]
     },
     "execution_count": 3,
     "metadata": {},
     "output_type": "execute_result"
    }
   ],
   "source": [
    "y = x > 0\n",
    "y"
   ]
  },
  {
   "cell_type": "code",
   "execution_count": 10,
   "metadata": {},
   "outputs": [
    {
     "name": "stderr",
     "output_type": "stream",
     "text": [
      "C:\\Users\\hr102\\AppData\\Local\\Temp\\ipykernel_37280\\985487235.py:1: DeprecationWarning: `np.int` is a deprecated alias for the builtin `int`. To silence this warning, use `int` by itself. Doing this will not modify any behavior and is safe. When replacing `np.int`, you may wish to use e.g. `np.int64` or `np.int32` to specify the precision. If you wish to review your current use, check the release note link for additional information.\n",
      "Deprecated in NumPy 1.20; for more details and guidance: https://numpy.org/devdocs/release/1.20.0-notes.html#deprecations\n",
      "  y = y.astype(np.int) # ここでの注意文はint型を指定するときに，int32や，int64まで指定したほうが言い的なこと言ってる?\n"
     ]
    },
    {
     "data": {
      "text/plain": [
       "array([0, 1, 1])"
      ]
     },
     "execution_count": 10,
     "metadata": {},
     "output_type": "execute_result"
    }
   ],
   "source": [
    "y = y.astype(np.int) # ここでの注意文はint型を指定するときに，int32や，int64まで指定したほうが言い的なこと言ってる?\n",
    "y"
   ]
  },
  {
   "cell_type": "code",
   "execution_count": 12,
   "metadata": {},
   "outputs": [
    {
     "data": {
      "image/png": "[encoded data removed]",
      "text/plain": [
       "<Figure size 432x288 with 1 Axes>"
      ]
     },
     "metadata": {
      "needs_background": "light"
     },
     "output_type": "display_data"
    }
   ],
   "source": [
    "# ステップ関数のグラフ\n",
    "import numpy as np\n",
    "import matplotlib.pylab as plt # pylabってなんやねん → 色々入ってる便利モジュールだけどバグ多し？\n",
    "\n",
    "def step_function(x):\n",
    "    return np.array(x > 0, dtype=np.int32) # False, Trueにしてから，0,1に変換\n",
    "\n",
    "x = np.arange(-5.0, 5.0, 0.1) # -5.0から5.0までの範囲を0.1刻みでNumpy配列を生成する\n",
    "y = step_function(x)\n",
    "plt.plot(x, y)\n",
    "plt.ylim(-0.1, 1.1) # y軸の範囲を指定\n",
    "plt.show()"
   ]
  },
  {
   "cell_type": "markdown",
   "metadata": {},
   "source": [
    "### シグモイド関数の実装"
   ]
  },
  {
   "cell_type": "code",
   "execution_count": 46,
   "metadata": {},
   "outputs": [],
   "source": [
    "# シグモイド関数は次のように書ける．\n",
    "def sigmoid(x):\n",
    "    return 1 / (1 + np.exp(-x))"
   ]
  },
  {
   "cell_type": "markdown",
   "metadata": {},
   "source": [
    "この実装も単純だが，今回はNumpy配列を引数に入力しても結果は正しく表示される\n",
    "\n",
    "シグモイド関数の実装がNumpy配列に対応していることは，Numpyのブロードキャストの機能に秘密がある．\n",
    "\n",
    "ブロードキャスト機能により，スカラ値とNumpy配列での演算が行われると，スカラ値とNumpy配列の各要素同士で演算が行われるから\n",
    "\n",
    "さっきのステップ関数は不等号演算をしていて，配列での不等号演算の結果はブーリアン型になるからNumpy配列に対応していなかった？"
   ]
  },
  {
   "cell_type": "code",
   "execution_count": 45,
   "metadata": {},
   "outputs": [
    {
     "data": {
      "image/png": "[encoded data removed]",
      "text/plain": [
       "<Figure size 432x288 with 1 Axes>"
      ]
     },
     "metadata": {
      "needs_background": "light"
     },
     "output_type": "display_data"
    }
   ],
   "source": [
    "# シグモイド関数のグラフ\n",
    "\n",
    "import numpy as np\n",
    "import matplotlib.pylab as plt\n",
    "\n",
    "def sigmoid(x):\n",
    "    return 1 / (1 + np.exp(-x))\n",
    "\n",
    "x = np.arange(-5.0, 5.0, 0.1)\n",
    "y = sigmoid(x)\n",
    "plt.plot(x, y)\n",
    "plt.ylim(-0.1, 1.1) # y軸の範囲を指定\n",
    "plt.title(\"sigmoid function\")\n",
    "plt.show()"
   ]
  },
  {
   "cell_type": "markdown",
   "metadata": {},
   "source": [
    "### シグモイド関数とステップ関数の比較\n",
    "#### 異なる点\n",
    "* 滑らかさ．この滑らかさがニューラルネットワークの学習において重要な意味を持つ．\n",
    "* ステップ関数が0か1かしか返さないのに対して，シグモイド関数は実数--0.731や0.880など--を返す\n",
    "\n",
    "つまり，パーセプトロンではニューロン間を0か1の二値の信号が流れていたのに対してニューラルネットワークでは連続的な実数値の信号が流れる．\n",
    "\n",
    "水に例えるとステップ関数は\"ししおどし\", シグモイド関数は\"水車\"：\n",
    "\n",
    "ステップ関数が\"ししおどし\"のように，水を次へ流すか流さないかの動きをするのに対して，シグモイド関数は\"水車\"のように流れてきた水の量に比例して，次へ流す水の量を調整する．\n",
    "\n",
    "#### 共通する性質\n",
    "* 遠くから見ると，形は似ている：\n",
    "つまり，ステップ関数とシグモイド関数は，入力信号が重要な情報であれば大きな値を出力し，入力信号が重要でなければ小さな値をしゅつりょくする．\n",
    "* どんなに入力信号の値が大きくても，出力信号の値を0から1の間に押し込めるのも両者の共通点．\n",
    "* 両者はともに非線形関数である．(そもそも関数は変換器であり，この変換器になにか入力したとき，出力が入力の定数倍になるような関数を線形関数という．そのため，線形関数は一本の直線になる)\n",
    "\n",
    "ニューラルネットワークでは，活性化関数に線形関数を用いてはならない．線形関数を用いると，ニューラルネットワークで層を深くすることの意味がなくなってしまうから．(ここのp51の具体例わかりやすい)\n",
    "\n",
    "### ReLU関数\n",
    "古くからニューラルネットワークではシグモイド関数が一般的だったが，最近では**ReLU (Rectified Linear Unit)**という関数が主に用いられている．\n",
    "\n",
    "ReLuは入力が０を超えていれば，その入力をそのまま出力し，０以下ならば０を出力する関数．"
   ]
  },
  {
   "cell_type": "code",
   "execution_count": 17,
   "metadata": {},
   "outputs": [
    {
     "data": {
      "image/png": "[encoded data removed]",
      "text/plain": [
       "<Figure size 432x288 with 1 Axes>"
      ]
     },
     "metadata": {
      "needs_background": "light"
     },
     "output_type": "display_data"
    }
   ],
   "source": [
    "# ReLU関数の実装\n",
    "import numpy as np\n",
    "import matplotlib.pyplot as plt\n",
    "\n",
    "def relu(x):\n",
    "    return np.maximum(0, x)\n",
    "\n",
    "# Numpyのmaximumという関数を使っている．\n",
    "# maximum：入力された値から大きいほうの値を選んで出力する関数．\n",
    "\n",
    "x = np.arange(-5.0, 5.0, 0.1)\n",
    "y = relu(x)\n",
    "plt.plot(x, y)\n",
    "plt.ylim(-1.0, 6.0)\n",
    "plt.title(\"ReLU Function\")\n",
    "plt.show()"
   ]
  },
  {
   "cell_type": "markdown",
   "metadata": {},
   "source": [
    "### 多次元配列の計算\n",
    "Numpy の多次元配列を使った計算をマスターすれば，ニューラルネットワークの実装を効率的に進めれるよ！"
   ]
  },
  {
   "cell_type": "code",
   "execution_count": 1,
   "metadata": {},
   "outputs": [
    {
     "name": "stdout",
     "output_type": "stream",
     "text": [
      "[1 2 3 4]\n"
     ]
    }
   ],
   "source": [
    "import numpy as np\n",
    "A = np.array([1, 2, 3, 4])\n",
    "print(A)"
   ]
  },
  {
   "cell_type": "code",
   "execution_count": 2,
   "metadata": {},
   "outputs": [
    {
     "data": {
      "text/plain": [
       "1"
      ]
     },
     "execution_count": 2,
     "metadata": {},
     "output_type": "execute_result"
    }
   ],
   "source": [
    "np.ndim(A) # 配列の次元数の取得\n",
    "# np.ndim()という関数"
   ]
  },
  {
   "cell_type": "code",
   "execution_count": 4,
   "metadata": {},
   "outputs": [
    {
     "data": {
      "text/plain": [
       "(4,)"
      ]
     },
     "execution_count": 4,
     "metadata": {},
     "output_type": "execute_result"
    }
   ],
   "source": [
    "A.shape # 配列の形状の取得\n",
    "# インスタンス変数の`shape`\n",
    "\n",
    "# 結果がタプルになっていることに注意\n",
    "# タプルの理由は１次元配列の場合も多次元配列の場合と同じ統一された結果を返すから\n",
    "\n",
    "# これは4行1列だから縦ベクトル？？"
   ]
  },
  {
   "cell_type": "code",
   "execution_count": 5,
   "metadata": {},
   "outputs": [
    {
     "data": {
      "text/plain": [
       "4"
      ]
     },
     "execution_count": 5,
     "metadata": {},
     "output_type": "execute_result"
    }
   ],
   "source": [
    "A.shape[0]"
   ]
  },
  {
   "cell_type": "code",
   "execution_count": 6,
   "metadata": {},
   "outputs": [
    {
     "name": "stdout",
     "output_type": "stream",
     "text": [
      "[[1 2]\n",
      " [3 4]\n",
      " [5 6]]\n"
     ]
    }
   ],
   "source": [
    "B = np.array([[1,2], [3,4], [5,6]])\n",
    "print(B)"
   ]
  },
  {
   "cell_type": "code",
   "execution_count": 8,
   "metadata": {},
   "outputs": [
    {
     "data": {
      "text/plain": [
       "2"
      ]
     },
     "execution_count": 8,
     "metadata": {},
     "output_type": "execute_result"
    }
   ],
   "source": [
    "np.ndim(B)"
   ]
  },
  {
   "cell_type": "code",
   "execution_count": 9,
   "metadata": {},
   "outputs": [
    {
     "data": {
      "text/plain": [
       "(3, 2)"
      ]
     },
     "execution_count": 9,
     "metadata": {},
     "output_type": "execute_result"
    }
   ],
   "source": [
    "B.shape\n",
    "\n",
    "# Bは3×2の配列"
   ]
  },
  {
   "cell_type": "code",
   "execution_count": 10,
   "metadata": {},
   "outputs": [
    {
     "data": {
      "text/plain": [
       "(2, 2)"
      ]
     },
     "execution_count": 10,
     "metadata": {},
     "output_type": "execute_result"
    }
   ],
   "source": [
    "# 行列の積\n",
    "A = np.array([[1,2], [3,4]])\n",
    "A.shape"
   ]
  },
  {
   "cell_type": "code",
   "execution_count": 11,
   "metadata": {},
   "outputs": [
    {
     "data": {
      "text/plain": [
       "(2, 2)"
      ]
     },
     "execution_count": 11,
     "metadata": {},
     "output_type": "execute_result"
    }
   ],
   "source": [
    "B = np.array([[5,6], [7,8]])\n",
    "B.shape"
   ]
  },
  {
   "cell_type": "code",
   "execution_count": 13,
   "metadata": {},
   "outputs": [
    {
     "data": {
      "text/plain": [
       "array([[19, 22],\n",
       "       [43, 50]])"
      ]
     },
     "execution_count": 13,
     "metadata": {},
     "output_type": "execute_result"
    }
   ],
   "source": [
    "np.dot(A, B) # 行列の積の計算\n",
    "# ドット積"
   ]
  },
  {
   "cell_type": "markdown",
   "metadata": {},
   "source": [
    "#### 行列の計算をするときはそれぞれの配列の次元に注意する！！！"
   ]
  },
  {
   "cell_type": "code",
   "execution_count": 16,
   "metadata": {},
   "outputs": [
    {
     "data": {
      "text/plain": [
       "(3, 2)"
      ]
     },
     "execution_count": 16,
     "metadata": {},
     "output_type": "execute_result"
    }
   ],
   "source": [
    "A = np.array([[1,2], [3,4], [5,6]])\n",
    "B = np.array([7,8])\n",
    "A.shape"
   ]
  },
  {
   "cell_type": "code",
   "execution_count": 17,
   "metadata": {},
   "outputs": [
    {
     "data": {
      "text/plain": [
       "(2,)"
      ]
     },
     "execution_count": 17,
     "metadata": {},
     "output_type": "execute_result"
    }
   ],
   "source": [
    "B.shape"
   ]
  },
  {
   "cell_type": "code",
   "execution_count": 18,
   "metadata": {},
   "outputs": [
    {
     "data": {
      "text/plain": [
       "array([23, 53, 83])"
      ]
     },
     "execution_count": 18,
     "metadata": {},
     "output_type": "execute_result"
    }
   ],
   "source": [
    "np.dot(A, B)"
   ]
  },
  {
   "cell_type": "markdown",
   "metadata": {},
   "source": [
    "#### ニューラルネットワークの行列の積\n",
    "図3-14の簡単なニューラルネットワークを対象とする\n",
    "\n",
    "このニューラルネットワークは，バイアスと活性化関数は省略し，重みだけがあるものとした\n",
    "\n",
    "実装に関しては$\\rm{X}$, $\\rm{W}$, $\\mathrm{Y}$の形状に注意する．特に$\\rm{X}$と，$\\rm{W}$の対応する次元の要素数が一致していることが重要．"
   ]
  },
  {
   "cell_type": "code",
   "execution_count": 34,
   "metadata": {},
   "outputs": [
    {
     "data": {
      "text/plain": [
       "(2,)"
      ]
     },
     "execution_count": 34,
     "metadata": {},
     "output_type": "execute_result"
    }
   ],
   "source": [
    "X = np.array([1, 2])\n",
    "X.shape"
   ]
  },
  {
   "cell_type": "code",
   "execution_count": 35,
   "metadata": {},
   "outputs": [
    {
     "name": "stdout",
     "output_type": "stream",
     "text": [
      "[[1 3 5]\n",
      " [2 4 6]]\n"
     ]
    }
   ],
   "source": [
    "W = np.array([[1,3,5], [2,4,6]])\n",
    "print(W)"
   ]
  },
  {
   "cell_type": "code",
   "execution_count": 36,
   "metadata": {},
   "outputs": [
    {
     "data": {
      "text/plain": [
       "(2, 3)"
      ]
     },
     "execution_count": 36,
     "metadata": {},
     "output_type": "execute_result"
    }
   ],
   "source": [
    "W.shape"
   ]
  },
  {
   "cell_type": "code",
   "execution_count": 37,
   "metadata": {},
   "outputs": [
    {
     "name": "stdout",
     "output_type": "stream",
     "text": [
      "[ 5 11 17]\n"
     ]
    }
   ],
   "source": [
    "Y = np.dot(X, W)\n",
    "print(Y)"
   ]
  },
  {
   "cell_type": "markdown",
   "metadata": {},
   "source": [
    "以上で示したように`np.dot`(多次元配列のドット積)を使えばYの結果を1度に計算できる．\n",
    "\n",
    "これが意味することは，もしYの要素数が100や1000であったとしても，1度の演算で計算できるということ！\n",
    "\n",
    "もし，`np.dot`を使わなければ，Yの要素を一つずつ取り出して計算しなければならない(または，for文を使って計算をするひつようがある)．なるほど！賢い！！！\n",
    "\n",
    "行列の積によって一度で計算ができるというテクニックは，実装上とても重要"
   ]
  },
  {
   "cell_type": "markdown",
   "metadata": {},
   "source": [
    "### 3層ニューラルネットワークの実装\n",
    "\"実践的\"なニューラルネットワークの実装\n",
    "\n",
    "ここでは図3-15に示す，3層ニューラルネットワークを対象として，その入力から出力への処理(フォワード方向への処理)を実装する．\n",
    "\n",
    "Numpy配列をうまく使うことでほんの少しのコードでニューラルネットワークのフォワード処理を完成させれる！\n",
    "\n",
    "本節での重要な点：ニューラルネットワークの計算は行列の計算としてまとめて行える．ということ\n",
    "\n",
    "#### やっぱりNumpy配列の計算ちょっと気持ち悪い..."
   ]
  },
  {
   "cell_type": "code",
   "execution_count": 43,
   "metadata": {},
   "outputs": [
    {
     "name": "stdout",
     "output_type": "stream",
     "text": [
      "(2, 3)\n",
      "(2,)\n",
      "(3,)\n",
      "[0.3 0.7 1.1]\n"
     ]
    }
   ],
   "source": [
    "# 式(3.9)の実装\n",
    "# 入力信号，重み，バイアスは適当\n",
    "import numpy as np\n",
    "X = np.array([1.0, 0.5])\n",
    "W1 = np.array([[0.1, 0.3, 0.5], [0.2, 0.4, 0.6]])\n",
    "B1 = np.array([0.1, 0.2, 0.3])\n",
    "\n",
    "print(W1.shape) # (2, 3)\n",
    "print(X.shape) # (2,)\n",
    "print(B1.shape) # (3,)\n",
    "# ここでもやはり，W1とXの対応する次元の要素数が一致している． \n",
    "\n",
    "A1 = np.dot(X, W1) + B1\n",
    "print(A1)"
   ]
  },
  {
   "cell_type": "code",
   "execution_count": 48,
   "metadata": {},
   "outputs": [
    {
     "name": "stdout",
     "output_type": "stream",
     "text": [
      "[0.3 0.7 1.1]\n",
      "[0.57444252 0.66818777 0.75026011]\n"
     ]
    }
   ],
   "source": [
    "# 活性化関数をh()で表し，ここではシグモイド関数を使う\n",
    "# 活性化関数で変換された信号をｚで表す\n",
    "# これをpythonで実装する\n",
    "\n",
    "def sigmoid(x):  # この関数はNumpy配列を受け取り，同じ要素数を持つNumpy配列を返す\n",
    "    return 1 / (1 + np.exp(-x)) \n",
    "\n",
    "Z1 = sigmoid(A1) # sigmoid()は既に定義した関数\n",
    "\n",
    "print(A1)\n",
    "print(Z1) "
   ]
  },
  {
   "cell_type": "code",
   "execution_count": 50,
   "metadata": {},
   "outputs": [
    {
     "name": "stdout",
     "output_type": "stream",
     "text": [
      "(3,)\n",
      "(3, 2)\n",
      "(2,)\n",
      "[0.51615984 1.21402696]\n",
      "[0.62624937 0.7710107 ]\n"
     ]
    }
   ],
   "source": [
    "# 続いて，第1層から第2層目までの実装 (図3-19)\n",
    "\n",
    "W2 = np.array([[0.1, 0.4], [0.2, 0.5], [0.3, 0.6]])\n",
    "B2 = np.array([0.1, 0.2])\n",
    "\n",
    "print(Z1. shape) # (3,)\n",
    "print(W2.shape) # (3, 2)\n",
    "print(B2.shape) # (2,)\n",
    "\n",
    "A2 = np.dot(Z1, W2) + B2\n",
    "Z2 = sigmoid(A2)\n",
    "\n",
    "print(A2)\n",
    "print(Z2)\n",
    "\n",
    "# この実装は第1層の出力(Z1)が第2層への入力になっている点を除けば，さっきの実装と全く同じ！"
   ]
  },
  {
   "cell_type": "code",
   "execution_count": 54,
   "metadata": {},
   "outputs": [
    {
     "name": "stdout",
     "output_type": "stream",
     "text": [
      "[0.31682708 0.69627909]\n",
      "[0.31682708 0.69627909]\n"
     ]
    }
   ],
   "source": [
    "# 最後に第2層から出力層(第3層)\n",
    "def identity_function(x): # 恒等関数という．これを出力層の活性化関数として利用する．(必要はないがこれまでの流れと統一するため)\n",
    "    return x\n",
    "\n",
    "W3 = np.array([[0.1, 0.3], [0.2, 0.4]])\n",
    "B3 = np.array([0.1, 0.2])\n",
    "\n",
    "A3 = np.dot(Z2, W3) + B3\n",
    "Y = identity_function(A3) # もしくはY = A3\n",
    "\n",
    "print(A3)\n",
    "print(Y)"
   ]
  },
  {
   "cell_type": "markdown",
   "metadata": {},
   "source": [
    "#### 実装のまとめ\n",
    "ここまで行ってきた実装を,\n",
    "別のファイル: `three_neural_network.py`にまとめて書いた\n",
    "\n",
    "色々異なるテクニックで書かれているから要チェック！\n"
   ]
  },
  {
   "cell_type": "code",
   "execution_count": 59,
   "metadata": {},
   "outputs": [
    {
     "data": {
      "text/plain": [
       "{'W1': array([[0.1, 0.3, 0.5],\n",
       "        [0.2, 0.4, 0.6]]),\n",
       " 'b1': array([0.1, 0.2, 0.3]),\n",
       " 'W2': array([[0.1, 0.4],\n",
       "        [0.2, 0.5],\n",
       "        [0.3, 0.6]]),\n",
       " 'b2': array([0.1, 0.2]),\n",
       " 'W3': array([[0.1, 0.3],\n",
       "        [0.2, 0.4]]),\n",
       " 'b3': array([0.1, 0.2])}"
      ]
     },
     "execution_count": 59,
     "metadata": {},
     "output_type": "execute_result"
    }
   ],
   "source": [
    "# 動作確認\n",
    "def init_network():\n",
    "    network = {}  # リストではなく辞書を作ってる\n",
    "    network['W1'] = np.array([[0.1, 0.3, 0.5], [0.2, 0.4, 0.6]])\n",
    "    network['b1'] = np.array([0.1, 0.2, 0.3])\n",
    "    network['W2'] = np.array([[0.1, 0.4], [0.2, 0.5], [0.3, 0.6]])\n",
    "    network['b2'] = np.array([0.1, 0.2])\n",
    "    network['W3'] = np.array([[0.1, 0.3], [0.2, 0.4]])\n",
    "    network['b3'] = np.array([0.1, 0.2])\n",
    "\n",
    "    return network\n",
    "\n",
    "init_network()"
   ]
  },
  {
   "cell_type": "markdown",
   "metadata": {},
   "source": [
    "### 3.5 出力層の設計\n",
    "機械学習の問題は\"分類問題\"と\"回帰問題\"に大別できる．\n",
    "\n",
    "#### 3.6 恒等関数とソフトマックス関数\n",
    "ソフトマックスの出力は，全ての入力信号から矢印による結びつきがある．\n",
    "\n",
    "式の分母からわかるように，出力の各ニューロンが，全ての入力信号から影響を受けることになるから．"
   ]
  },
  {
   "cell_type": "code",
   "execution_count": 3,
   "metadata": {},
   "outputs": [
    {
     "name": "stdout",
     "output_type": "stream",
     "text": [
      "[ 1.34985881 18.17414537 54.59815003]\n",
      "74.1221542101633\n",
      "[0.01821127 0.24519181 0.73659691]\n"
     ]
    }
   ],
   "source": [
    " # ソフトマックス関数の実装\n",
    "\n",
    " import numpy as np\n",
    " \n",
    " a = np.array([0.3, 2.9, 4.0])\n",
    " exp_a = np.exp(a)\n",
    " print(exp_a)\n",
    " sum_exp_a = np.sum(exp_a) # 指数関数の和\n",
    " print(sum_exp_a)\n",
    "\n",
    " y = exp_a / sum_exp_a\n",
    " print(y)"
   ]
  },
  {
   "cell_type": "markdown",
   "metadata": {},
   "source": [
    "#### 3.5.2 ソフトマックス関数の実装上の注意\n",
    "ソフトマックス関数にはオーバーフローに関する欠陥がある．\n",
    "\n",
    "オーバーフロー：コンピュータが表現できる数には有効桁数があり，大きすぎる値は表現できないという問題\n",
    "\n",
    "大きな値同士で割り算を行うと，数値が不安定な結果になってしまう．\n",
    "\n",
    "改善案\n",
    "* Cという任意定数を分子と分母両方にかける．$\\rightarrow$ 指数関数の中に何らかの定数を足し算（引き算）しても結果は変わらない．ということがわかる．\n",
    "* オーバーフローの対策として，入力信号の中でさいだいの値を用いることが一般的．"
   ]
  },
  {
   "cell_type": "code",
   "execution_count": 7,
   "metadata": {},
   "outputs": [
    {
     "name": "stdout",
     "output_type": "stream",
     "text": [
      "[nan nan nan]\n",
      "[  0 -10 -20]\n",
      "[9.99954600e-01 4.53978686e-05 2.06106005e-09]\n"
     ]
    },
    {
     "name": "stderr",
     "output_type": "stream",
     "text": [
      "/var/folders/gm/v494qkh53y7bx3dh4j6dsgfc0000gn/T/ipykernel_3156/1697098949.py:4: RuntimeWarning: overflow encountered in exp\n",
      "  y = np.exp(a) / np.sum(np.exp(a)) # ソフトマックス関数の計算\n",
      "/var/folders/gm/v494qkh53y7bx3dh4j6dsgfc0000gn/T/ipykernel_3156/1697098949.py:4: RuntimeWarning: invalid value encountered in true_divide\n",
      "  y = np.exp(a) / np.sum(np.exp(a)) # ソフトマックス関数の計算\n"
     ]
    }
   ],
   "source": [
    "# 改善案の具体例\n",
    "\n",
    "a = np.array([1010, 1000, 990])\n",
    "y = np.exp(a) / np.sum(np.exp(a)) # ソフトマックス関数の計算\n",
    "print(y)\n",
    "# array([nan, nan, nan]) と表示され，正しく計算されない\n",
    "\n",
    "c = np.max(a) # 1010\n",
    "y = a-c\n",
    "print(y)\n",
    "\n",
    "# オーバーフローしないように改善\n",
    "y = np.exp(a-c) / np.sum(np.exp(a-c))\n",
    "print(y)"
   ]
  },
  {
   "cell_type": "code",
   "execution_count": 6,
   "metadata": {},
   "outputs": [
    {
     "name": "stdout",
     "output_type": "stream",
     "text": [
      "[0.01821127 0.24519181 0.73659691]\n",
      "1.0\n"
     ]
    }
   ],
   "source": [
    "# 3.5.3 ソフトマックス関数の特徴\n",
    "def softmax(a):\n",
    "    c = np.max(a) # オーバーフローを考慮\n",
    "    exp_a = np.exp(a-c)\n",
    "    sum_exp_a = np.sum(exp_a)\n",
    "    y = exp_a / sum_exp_a\n",
    "\n",
    "    return y\n",
    "\n",
    "a = np.array([0.3, 2.9, 4.0])\n",
    "y = softmax(a)\n",
    "print(y)\n",
    "print(np.sum(y)) # softmax関数の出力の総和は１になる．"
   ]
  },
  {
   "cell_type": "code",
   "execution_count": 8,
   "metadata": {},
   "outputs": [
    {
     "ename": "NameError",
     "evalue": "name 'np' is not defined",
     "output_type": "error",
     "traceback": [
      "\u001b[1;31m---------------------------------------------------------------------------\u001b[0m",
      "\u001b[1;31mNameError\u001b[0m                                 Traceback (most recent call last)",
      "\u001b[1;32mc:\\Users\\hr102\\Documents\\Python\\DeepLearning\\3_neural_network\\neural_network.ipynb Cell 48\u001b[0m in \u001b[0;36m<cell line: 6>\u001b[1;34m()\u001b[0m\n\u001b[0;32m      <a href='vscode-notebook-cell:/c%3A/Users/hr102/Documents/Python/DeepLearning/3_neural_network/neural_network.ipynb#X65sZmlsZQ%3D%3D?line=2'>3</a>\u001b[0m \u001b[39mimport\u001b[39;00m \u001b[39msoftmax\u001b[39;00m \u001b[39mas\u001b[39;00m \u001b[39msm\u001b[39;00m\n\u001b[0;32m      <a href='vscode-notebook-cell:/c%3A/Users/hr102/Documents/Python/DeepLearning/3_neural_network/neural_network.ipynb#X65sZmlsZQ%3D%3D?line=4'>5</a>\u001b[0m a \u001b[39m=\u001b[39m np\u001b[39m.\u001b[39marray([\u001b[39m0.3\u001b[39m, \u001b[39m2.9\u001b[39m, \u001b[39m4.0\u001b[39m])\n\u001b[1;32m----> <a href='vscode-notebook-cell:/c%3A/Users/hr102/Documents/Python/DeepLearning/3_neural_network/neural_network.ipynb#X65sZmlsZQ%3D%3D?line=5'>6</a>\u001b[0m y \u001b[39m=\u001b[39m sm\u001b[39m.\u001b[39;49msoftmax(a)\n\u001b[0;32m      <a href='vscode-notebook-cell:/c%3A/Users/hr102/Documents/Python/DeepLearning/3_neural_network/neural_network.ipynb#X65sZmlsZQ%3D%3D?line=6'>7</a>\u001b[0m \u001b[39mprint\u001b[39m(y)\n",
      "File \u001b[1;32mc:\\Users\\hr102\\Documents\\Python\\DeepLearning\\3_neural_network\\softmax.py:4\u001b[0m, in \u001b[0;36msoftmax\u001b[1;34m(a)\u001b[0m\n\u001b[0;32m      1\u001b[0m \u001b[39m# ソフトマックス関数のpythonの関数としての定義\u001b[39;00m\n\u001b[0;32m      2\u001b[0m \u001b[39mimport\u001b[39;00m \u001b[39mnumpy\u001b[39;00m \u001b[39mas\u001b[39;00m \u001b[39mnp\u001b[39;00m\n\u001b[1;32m----> 4\u001b[0m \u001b[39mdef\u001b[39;00m \u001b[39msoftmax\u001b[39m(a):\n\u001b[0;32m      5\u001b[0m     c \u001b[39m=\u001b[39m np\u001b[39m.\u001b[39mmax(a) \u001b[39m# オーバーフローを考慮\u001b[39;00m\n\u001b[0;32m      6\u001b[0m     exp_a \u001b[39m=\u001b[39m np\u001b[39m.\u001b[39mexp(a\u001b[39m-\u001b[39mc)\n",
      "\u001b[1;31mNameError\u001b[0m: name 'np' is not defined"
     ]
    }
   ],
   "source": [
    "# softmax.pyファイルから関数を呼び出して実行したい．\n",
    "import numpy as np\n",
    "import softmax as sm\n",
    "\n",
    "a = np.array([0.3, 2.9, 4.0])\n",
    "y = sm.softmax(a)\n",
    "print(y)\n",
    "\n",
    "# if __name__ == '__main__':\n",
    "#     main()"
   ]
  },
  {
   "cell_type": "markdown",
   "metadata": {},
   "source": [
    "#### 3.5.3 ソフトマックス関数の特徴\n",
    "softmax関数の出力の総和が１になる\n",
    "\n",
    "このおかげでsoftmax関数の出力を確立として解釈することができる．\n",
    "\n",
    "注意点：指数関数は単調増加する関数なので，softmax関数を適用しても各要素の大小関係は変化しない．"
   ]
  },
  {
   "cell_type": "markdown",
   "metadata": {},
   "source": [
    "### 手書き数字認識\n",
    "\n"
   ]
  },
  {
   "cell_type": "markdown",
   "metadata": {},
   "source": [
    "### 手書き数字認識\n",
    "学習は完了したものとして，学習済みのパラメータを使って，ニューラルネットワークの推論処理だけを実装していく．(forward propagation)\n",
    "#### 3.6.1 MNISTデータセット\n",
    "mnist.pyはdeep-learning-from -scratchの中からしか使え無さそうなので，\n",
    "以降“ch03”の中にファイルを作って，勉強続行した\n"
   ]
  },
  {
   "cell_type": "code",
   "execution_count": null,
   "metadata": {},
   "outputs": [],
   "source": []
  }
 ],
 "metadata": {
  "kernelspec": {
   "display_name": "Python 3.10.2 64-bit",
   "language": "python",
   "name": "python3"
  },
  "language_info": {
   "codemirror_mode": {
    "name": "ipython",
    "version": 3
   },
   "file_extension": ".py",
   "mimetype": "text/x-python",
   "name": "python",
   "nbconvert_exporter": "python",
   "pygments_lexer": "ipython3",
   "version": "3.10.2"
  },
  "orig_nbformat": 4,
  "vscode": {
   "interpreter": {
    "hash": "70d7714ad19ca969825980dbe907783ea09e47e1549c28b9361e814ccf77016b"
   }
  }
 },
 "nbformat": 4,
 "nbformat_minor": 2
}
