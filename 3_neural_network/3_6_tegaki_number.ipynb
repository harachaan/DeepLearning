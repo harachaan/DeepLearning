{
 "cells": [
  {
   "cell_type": "markdown",
   "metadata": {},
   "source": [
    "### 3.6 手書き数字認識"
   ]
  },
  {
   "cell_type": "code",
   "execution_count": 15,
   "metadata": {},
   "outputs": [
    {
     "name": "stdout",
     "output_type": "stream",
     "text": [
      "c:\\Users\\hr102\\Documents\\python\\DeepLearning\\3_neural_network\n"
     ]
    }
   ],
   "source": [
    "import sys, os\n",
    "print(os.getcwd()) # ここの親ディレクトリは\"DeepLearning\"であることがわかった\n",
    "\n",
    "sys.path.append('../source_code') # `os.pardir`だけじゃなくて, `'../'`でも親ディレクトリを表せる\n",
    "# 以上のコードで，importする際にファイルを検索するディレクトリ一覧に'source_code'を追加できた．\n",
    "# これめちゃくちゃ大事\n",
    "\n",
    "from dataset.mnist import load_mnist # load mnist関数の読み込み"
   ]
  },
  {
   "cell_type": "code",
   "execution_count": 16,
   "metadata": {},
   "outputs": [],
   "source": [
    "# load_mnist関数を実行\n",
    "(x_train, t_train), (x_test, t_test) = \\\n",
    "    load_mnist(flatten=True, normalize=False) # `\\`はコードを改行しても続いていることをpythonに認識させるための記号"
   ]
  },
  {
   "cell_type": "markdown",
   "metadata": {},
   "source": [
    "load_mnst()関数には3つの引数を設定できる．\n",
    "* normalize：入力画像を0.0~1.0のあたいに正規化するかどうかを設定．これをFalseにすると，入力画像のピクセルは本の0~255のまま\n",
    "* flatten：入力画像を平らにする(1次元配列にする)かどうか．Falseに設定すると入力画像は1*28*28の3次元配列として，Trueだと，784個の要素からなる1次元配列として格納される．\n",
    "* one_hot_label：ラベルをone-hotとして格納するかどうかを設定する．\n",
    "\n",
    "one-hot表現とは，正解となるラベルだけが１でそれ以外は０の配列．"
   ]
  },
  {
   "cell_type": "code",
   "execution_count": 17,
   "metadata": {},
   "outputs": [
    {
     "name": "stdout",
     "output_type": "stream",
     "text": [
      "(60000, 784)\n",
      "(60000,)\n",
      "(10000, 784)\n",
      "(10000,)\n"
     ]
    }
   ],
   "source": [
    "# それぞれのデータの形状を出力\n",
    "\n",
    "# 訓練用のデータの形状を確認\n",
    "print(x_train.shape)\n",
    "print(t_train.shape)\n",
    "\n",
    "# テスト用のデータの形状を確認\n",
    "print(x_test.shape)\n",
    "print(t_test.shape)"
   ]
  },
  {
   "cell_type": "code",
   "execution_count": 18,
   "metadata": {},
   "outputs": [
    {
     "name": "stdout",
     "output_type": "stream",
     "text": [
      "0\n",
      "5\n"
     ]
    }
   ],
   "source": [
    "# 1つのデータを取り出して，表示してみる．(サイトの人のまね)\n",
    "\n",
    "import numpy as np\n",
    "# 出力の折り返し設定を変更\n",
    "np.set_printoptions(linewidth=150)\n",
    "\n",
    "# 表示するデータ番号を指定\n",
    "n = 0\n",
    "\n",
    "# n番目の画像データを表示\n",
    "print(x_train[n, 0])\n",
    "\n",
    "# n番目のラベルデータを表示\n",
    "print(t_train[n])\n",
    "\n",
    "# 出力の折り返し設定を戻す．\n",
    "np.set_printoptions(linewidth=75)\n",
    "\n",
    "# 表示できなかった．．．"
   ]
  },
  {
   "cell_type": "code",
   "execution_count": 25,
   "metadata": {},
   "outputs": [
    {
     "data": {
      "image/png": "[encoded data removed]",
      "text/plain": [
       "<Figure size 432x288 with 1 Axes>"
      ]
     },
     "metadata": {
      "needs_background": "light"
     },
     "output_type": "display_data"
    }
   ],
   "source": [
    "n = 0 # 表示するデータ番号を指定\n",
    "\n",
    "import matplotlib.pyplot as plt\n",
    "# 手書き文字を作図\n",
    "plt.imshow(x_train[n].reshape((28, 28)), cmap='gray') # 手書き文字\n",
    "plt.title('label:' + str(t_train[n])) # ラベル\n",
    "plt.show()"
   ]
  },
  {
   "cell_type": "code",
   "execution_count": 27,
   "metadata": {},
   "outputs": [
    {
     "name": "stdout",
     "output_type": "stream",
     "text": [
      "5\n",
      "(784,)\n",
      "(28, 28)\n"
     ]
    }
   ],
   "source": [
    "# MNIST画像の表示(p74)\n",
    "# 画像の表示にはPIL(Python Image Library)モジュールを使用する\n",
    "\n",
    "import sys, os\n",
    "sys.path.append('../source_code') # importの検索対象ファイルにsource_codeを追加\n",
    "import numpy as np\n",
    "from dataset.mnist import load_mnist\n",
    "from PIL import Image\n",
    "\n",
    "def img_show(img):\n",
    "    pil_img = Image.fromarray(np.uint8(img))\n",
    "    pil_img.show()\n",
    "\n",
    "(x_train, t_train), (x_test, t_test) = \\\n",
    "    load_mnist(flatten=True, normalize=False) # MNISTデータの読み込み\n",
    "\n",
    "img = x_train[0]\n",
    "label = t_train[0]\n",
    "print(label)\n",
    "\n",
    "print(img.shape)\n",
    "img = img.reshape(28, 28) # 形状を元の画像サイズに変形\n",
    "print(img.shape)\n",
    "\n",
    "img_show(img)"
   ]
  },
  {
   "cell_type": "markdown",
   "metadata": {},
   "source": [
    "#### 3.6.2 ニューラルネットワークの推論処理\n",
    "\n",
    "入力層784個，出力層10個，隠れ層は2つあり，一つ目は50個，2つ目は100個のニューロンを持つ．"
   ]
  },
  {
   "cell_type": "code",
   "execution_count": null,
   "metadata": {},
   "outputs": [],
   "source": [
    "def get_data():\n",
    "    (x_train, t_train), (x_test, t_test) = \\\n",
    "        load_mnist(normalize=True, flatten=True, one_hot_label=False)\n",
    "    return x_test, t_test\n",
    "\n",
    "def init_network():\n",
    "    with open(\"sample_weight.pkl\", 'rb') as f:\n",
    "        network = pickle.load(f)\n",
    "    \n",
    "    return network\n",
    "\n",
    "def predict(network, x):\n",
    "    W1, W2, W3 = network['W1'], network['W2'], network['W3']\n",
    "    b1, b2, b3 = network['b1'], network['b2'], network['b3']\n",
    "\n",
    "    a1 = np.dot(x, W1) + b1\n",
    "    z1 = sigmoid(a1)\n",
    "    a2 = "
   ]
  }
 ],
 "metadata": {
  "kernelspec": {
   "display_name": "Python 3.10.2 64-bit",
   "language": "python",
   "name": "python3"
  },
  "language_info": {
   "codemirror_mode": {
    "name": "ipython",
    "version": 3
   },
   "file_extension": ".py",
   "mimetype": "text/x-python",
   "name": "python",
   "nbconvert_exporter": "python",
   "pygments_lexer": "ipython3",
   "version": "3.10.2"
  },
  "orig_nbformat": 4,
  "vscode": {
   "interpreter": {
    "hash": "70d7714ad19ca969825980dbe907783ea09e47e1549c28b9361e814ccf77016b"
   }
  }
 },
 "nbformat": 4,
 "nbformat_minor": 2
}
