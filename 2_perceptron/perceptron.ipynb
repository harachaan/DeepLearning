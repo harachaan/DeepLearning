{
 "cells": [
  {
   "cell_type": "markdown",
   "metadata": {},
   "source": [
    "### パーセプトロン Perceptron\n",
    "パーセプトロンはニューラルネットワーク（ディープラーニング）の起源となるアルゴリズム．\n",
    "\n",
    "#### パーセプトロンとは\n",
    "perceptron(ここでのperceptronは正確には，人工ニューロンや，単純パーセプトロンと呼ばれる)は複数の信号を入力として受け取り，一つの信号を出力する．\n",
    "\n",
    "パーセプトロンの信号は「流す・流さない（1か0）」の二値の値．\n",
    "本書では，０を「信号を流さない」１を「信号を流す」に対応させて記述．\n",
    "\n",
    "#### ANDゲート\n",
    "wは重み，$\\theta$は閾値．\n",
    "\n",
    "$(w_1, w_2, \\theta) = (0.5, 0.5, 0.7) or (0.5, 0.5, 0.8) or (1.0, 1.0, 1.0) etc...$\n",
    "\n",
    "このようなパラメータを設定すれば，x1とx2の両方が1のときだけ，重み付き信号の総和が，与えられた閾値$\\theta$を上回る\n",
    "\n",
    "#### NANDゲートとORゲート\n",
    "$(w_1, w_2, \\theta) = (-0.5, -0.5, -0.7) etc$\n",
    "\n",
    "実は，ANDゲートを実現するパラメータに対して，それらの符号をすべて反転するだけでいい\n",
    "\n",
    "ORゲートは考えよう\n"
   ]
  },
  {
   "cell_type": "code",
   "execution_count": 1,
   "metadata": {},
   "outputs": [],
   "source": [
    "# perceptronの簡単な実装\n",
    "# 引数としてx1, x2を受け取るANDという関数を定義する\n",
    "\n",
    "def AND(x1, x2):\n",
    "    w1, w2, theta = 0.5, 0.5, 0.7\n",
    "    tmp = x1*w1 + x2*w2\n",
    "    if tmp <= theta:\n",
    "        return 0\n",
    "    elif tmp > theta:\n",
    "        return 1    # なんかJavaScriptの比較関数みたい\n",
    "\n",
    "# 同様の手順でNANdゲートやORゲートも実装可能"
   ]
  },
  {
   "cell_type": "code",
   "execution_count": 5,
   "metadata": {},
   "outputs": [
    {
     "data": {
      "text/plain": [
       "0"
      ]
     },
     "execution_count": 5,
     "metadata": {},
     "output_type": "execute_result"
    }
   ],
   "source": [
    "AND(0, 0) # 0を出力"
   ]
  },
  {
   "cell_type": "code",
   "execution_count": 4,
   "metadata": {},
   "outputs": [
    {
     "data": {
      "text/plain": [
       "1"
      ]
     },
     "execution_count": 4,
     "metadata": {},
     "output_type": "execute_result"
    }
   ],
   "source": [
    "AND(1, 1)  # 1を出力"
   ]
  },
  {
   "cell_type": "code",
   "execution_count": 6,
   "metadata": {},
   "outputs": [
    {
     "data": {
      "text/plain": [
       "array([0. , 0.5])"
      ]
     },
     "execution_count": 6,
     "metadata": {},
     "output_type": "execute_result"
    }
   ],
   "source": [
    "# 重みとバイアスの導入\n",
    "import numpy as np\n",
    "x = np.array([0, 1]) # 入力\n",
    "w = np.array([0.5, 0.5]) # 重み\n",
    "b = -0.7 # バイアス\n",
    "w*x"
   ]
  },
  {
   "cell_type": "code",
   "execution_count": 7,
   "metadata": {},
   "outputs": [
    {
     "data": {
      "text/plain": [
       "0.5"
      ]
     },
     "execution_count": 7,
     "metadata": {},
     "output_type": "execute_result"
    }
   ],
   "source": [
    "np.sum(w*x)"
   ]
  },
  {
   "cell_type": "code",
   "execution_count": 10,
   "metadata": {},
   "outputs": [
    {
     "data": {
      "text/plain": [
       "-0.19999999999999996"
      ]
     },
     "execution_count": 10,
     "metadata": {},
     "output_type": "execute_result"
    }
   ],
   "source": [
    "np.sum(w*x) + b # およそ-0.2\n",
    "\n",
    "# np.sum(w*x)で各要素の総和が計算され，この重み付き和にバイアスを加算すればok"
   ]
  },
  {
   "cell_type": "code",
   "execution_count": 11,
   "metadata": {},
   "outputs": [],
   "source": [
    "# 重みとバイアスによる実装\n",
    "\n",
    "def AND(x1, x2):\n",
    "    x = np.array([x1, x2])\n",
    "    w = np.array([0.5, 0.5])\n",
    "    b = -0.7\n",
    "    tmp = np.sum(w*x) + b\n",
    "    if tmp <= 0:\n",
    "        return 0\n",
    "    else:\n",
    "        return 1"
   ]
  },
  {
   "cell_type": "code",
   "execution_count": 12,
   "metadata": {},
   "outputs": [
    {
     "data": {
      "text/plain": [
       "1"
      ]
     },
     "execution_count": 12,
     "metadata": {},
     "output_type": "execute_result"
    }
   ],
   "source": [
    "AND(1, 2)"
   ]
  },
  {
   "cell_type": "code",
   "execution_count": 13,
   "metadata": {},
   "outputs": [
    {
     "data": {
      "text/plain": [
       "1"
      ]
     },
     "execution_count": 13,
     "metadata": {},
     "output_type": "execute_result"
    }
   ],
   "source": [
    "AND(1,1)"
   ]
  },
  {
   "cell_type": "code",
   "execution_count": 14,
   "metadata": {},
   "outputs": [
    {
     "data": {
      "text/plain": [
       "0"
      ]
     },
     "execution_count": 14,
     "metadata": {},
     "output_type": "execute_result"
    }
   ],
   "source": [
    "AND(1, 0)"
   ]
  },
  {
   "cell_type": "code",
   "execution_count": 18,
   "metadata": {},
   "outputs": [],
   "source": [
    "# NANDゲートとORゲートの実装\n",
    "\n",
    "def NAND(x1, x2):\n",
    "    x = np.array([x1, x2])\n",
    "    w = np.array([-0.5, -0.5]) # 重みとバイアスだけがANDと違う！\n",
    "    b = 0.7\n",
    "    tmp = np.sum(w*x) + b\n",
    "    if tmp <= 0:\n",
    "        return 0\n",
    "    else :\n",
    "        return 1\n",
    "\n",
    "def OR(x1, x2):\n",
    "    x = np.array([x1, x2])\n",
    "    w = np.array([0.5, 0.5])\n",
    "    b = -0.2\n",
    "    tmp = np.sum(w*x) + b\n",
    "    if tmp <= 0:\n",
    "        return 0\n",
    "    else:\n",
    "        return 1"
   ]
  },
  {
   "cell_type": "markdown",
   "metadata": {},
   "source": [
    "### XORゲート：排他的論理和とも呼ばれる論理回路\n",
    "x1, x2のどちらかが1のときだけ出力が1になる．\n",
    "\n",
    "じつはこれまでのパーセプトロンではXORゲートを実現することはできない．\n",
    "\n",
    "パーセプトロンの限界は，1本の直線で分けた領域しか表現できない点にある．\n",
    "\n",
    "そこで\"多層パーセプトロン\"を使う！\n",
    "\n",
    "AND, NAND, ORゲートを組み合わせることで，XORゲートを表現できる．\n"
   ]
  },
  {
   "cell_type": "code",
   "execution_count": 19,
   "metadata": {},
   "outputs": [],
   "source": [
    "# XORゲートの実装\n",
    "# これまで定義した関数AND, NAND, ORを使えば，簡単に実装可能！\n",
    "\n",
    "def XOR(x1, x2):\n",
    "    s1 = NAND(x1, x2)\n",
    "    s2 = OR(x1, x2)\n",
    "    y = AND(s1, s2)\n",
    "    return y"
   ]
  },
  {
   "cell_type": "code",
   "execution_count": 20,
   "metadata": {},
   "outputs": [
    {
     "data": {
      "text/plain": [
       "0"
      ]
     },
     "execution_count": 20,
     "metadata": {},
     "output_type": "execute_result"
    }
   ],
   "source": [
    "XOR(1,1) # 0を出力"
   ]
  },
  {
   "cell_type": "code",
   "execution_count": 21,
   "metadata": {},
   "outputs": [
    {
     "data": {
      "text/plain": [
       "1"
      ]
     },
     "execution_count": 21,
     "metadata": {},
     "output_type": "execute_result"
    }
   ],
   "source": [
    "XOR(1, 0) # 1を出力"
   ]
  },
  {
   "cell_type": "code",
   "execution_count": 22,
   "metadata": {},
   "outputs": [
    {
     "data": {
      "text/plain": [
       "1"
      ]
     },
     "execution_count": 22,
     "metadata": {},
     "output_type": "execute_result"
    }
   ],
   "source": [
    "XOR(0, 1) # 1を出力"
   ]
  },
  {
   "cell_type": "code",
   "execution_count": 23,
   "metadata": {},
   "outputs": [
    {
     "data": {
      "text/plain": [
       "0"
      ]
     },
     "execution_count": 23,
     "metadata": {},
     "output_type": "execute_result"
    }
   ],
   "source": [
    "XOR(1, 1) # 0を出力"
   ]
  },
  {
   "cell_type": "markdown",
   "metadata": {},
   "source": [
    "### NANDからコンピュータへ\n",
    "NANDゲートの組み合わせだけでコンピュータを作れる\n",
    "\n",
    "パーセプトロンは層を重ねることで非線形な表現も可能になり，原理的には（理論上）コンピュータが行う処理を表現できる，ということを覚えておく．\n",
    "\n",
    "### まとめ\n",
    "* パーセプトロンは入出力を備えたアルゴリズム．ある入力を与えたら，決まった値が出力される．\n",
    "* パーセプトロンでは「重み」と「バイアス」をパラメータとして設定する．\n",
    "* パーセプトロンを用いれば，ANDやORゲート等の論理回路を表現できる．\n",
    "* XORゲートは単層のパーセプトロンでは表現できないが，2層のパーセプトロンを用いれば，表現可能．\n",
    "* 単層のパーセプトロンは線形領域だけしか表現できないのに対して，多層のパーセプトロンは非線形領域を表現可能．\n",
    "* 多層のパーセプトロンは（理論上）コンピュータを表現できる．"
   ]
  },
  {
   "cell_type": "markdown",
   "metadata": {},
   "source": []
  }
 ],
 "metadata": {
  "kernelspec": {
   "display_name": "Python 3.10.2 64-bit",
   "language": "python",
   "name": "python3"
  },
  "language_info": {
   "codemirror_mode": {
    "name": "ipython",
    "version": 3
   },
   "file_extension": ".py",
   "mimetype": "text/x-python",
   "name": "python",
   "nbconvert_exporter": "python",
   "pygments_lexer": "ipython3",
   "version": "3.10.2"
  },
  "orig_nbformat": 4,
  "vscode": {
   "interpreter": {
    "hash": "70d7714ad19ca969825980dbe907783ea09e47e1549c28b9361e814ccf77016b"
   }
  }
 },
 "nbformat": 4,
 "nbformat_minor": 2
}
